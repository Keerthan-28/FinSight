{
 "cells": [
  {
   "cell_type": "code",
   "execution_count": 1,
   "id": "e0f3354f",
   "metadata": {},
   "outputs": [
    {
     "name": "stdout",
     "output_type": "stream",
     "text": [
      "   upi_txn_count  avg_txn_value  bill_payments  wallet_balance  sms_count  \\\n",
      "0            107     920.005543              5     9803.079025        750   \n",
      "1            353    1639.615959              3     4830.996635       1745   \n",
      "2            275    1224.976149              1     5369.349558       1093   \n",
      "3            111    1481.288738              3     1766.535864       1438   \n",
      "4             76    1855.215065              0     2544.383524       1000   \n",
      "\n",
      "   data_usage_gb  ecom_purchases  refund_count  income_bracket  age  \\\n",
      "0      26.110994              20             5               3   34   \n",
      "1       9.272165               3             3               3   47   \n",
      "2       5.294871              26             0               2   38   \n",
      "3      20.430829               1             2               4   30   \n",
      "4       1.623546               1             4               3   18   \n",
      "\n",
      "   txn_variance  credit_score  is_fraud  \n",
      "0    637.177568    384.505736         1  \n",
      "1    700.787498    372.133933         0  \n",
      "2    682.292976    309.594364         1  \n",
      "3    623.991355    409.478437         0  \n",
      "4    222.551261    355.137488         0  \n"
     ]
    }
   ],
   "source": [
    "import pandas as pd\n",
    "import numpy as np\n",
    "from sklearn.model_selection import train_test_split\n",
    "from sklearn.metrics import mean_absolute_error, mean_squared_error, r2_score, accuracy_score, confusion_matrix, classification_report\n",
    "from sklearn.ensemble import RandomForestRegressor, RandomForestClassifier\n",
    "\n",
    "# Load dataset\n",
    "data = pd.read_csv('../data/synthetic_fin_data.csv')\n",
    "print(data.head())\n",
    "\n",
    "# Split for credit scoring\n",
    "X_credit = data.drop(['credit_score', 'is_fraud'], axis=1)\n",
    "y_credit = data['credit_score']\n",
    "\n",
    "# Split for fraud detection\n",
    "X_fraud = data.drop(['credit_score', 'is_fraud'], axis=1)\n",
    "y_fraud = data['is_fraud']"
   ]
  },
  {
   "cell_type": "code",
   "execution_count": 2,
   "id": "e6feb5d7",
   "metadata": {},
   "outputs": [
    {
     "name": "stdout",
     "output_type": "stream",
     "text": [
      "MAE: 17.72\n",
      "R² Score: 0.67\n",
      "Within ±10% Tolerance: 94.50%\n"
     ]
    }
   ],
   "source": [
    "# Split data\n",
    "X_train, X_test, y_train, y_test = train_test_split(X_credit, y_credit, test_size=0.2, random_state=42)\n",
    "\n",
    "# Train model\n",
    "regressor = RandomForestRegressor(n_estimators=100, random_state=42)\n",
    "regressor.fit(X_train, y_train)\n",
    "\n",
    "# Predictions\n",
    "y_pred = regressor.predict(X_test)\n",
    "\n",
    "# Metrics\n",
    "mae = mean_absolute_error(y_test, y_pred)\n",
    "mse = mean_squared_error(y_test, y_pred)\n",
    "r2 = r2_score(y_test, y_pred)\n",
    "\n",
    "print(f\"MAE: {mae:.2f}\")\n",
    "print(f\"R² Score: {r2:.2f}\")\n",
    "\n",
    "# ±10% Tolerance Check\n",
    "tolerance = 0.10 * y_test.mean()\n",
    "within_tolerance = np.mean(np.abs(y_test - y_pred) <= tolerance)\n",
    "print(f\"Within ±10% Tolerance: {within_tolerance * 100:.2f}%\")"
   ]
  },
  {
   "cell_type": "code",
   "execution_count": 3,
   "id": "e7a086b4",
   "metadata": {},
   "outputs": [
    {
     "name": "stdout",
     "output_type": "stream",
     "text": [
      "Accuracy: 0.76\n",
      "Confusion Matrix:\n",
      " [[133  19]\n",
      " [ 29  19]]\n",
      "Classification Report:\n",
      "               precision    recall  f1-score   support\n",
      "\n",
      "           0       0.82      0.88      0.85       152\n",
      "           1       0.50      0.40      0.44        48\n",
      "\n",
      "    accuracy                           0.76       200\n",
      "   macro avg       0.66      0.64      0.64       200\n",
      "weighted avg       0.74      0.76      0.75       200\n",
      "\n"
     ]
    }
   ],
   "source": [
    "# Split data\n",
    "X_train, X_test, y_train, y_test = train_test_split(X_fraud, y_fraud, test_size=0.2, random_state=42, stratify=y_fraud)\n",
    "\n",
    "# Train model\n",
    "clf = RandomForestClassifier(n_estimators=100, random_state=42)\n",
    "clf.fit(X_train, y_train)\n",
    "\n",
    "# Predictions\n",
    "y_pred = clf.predict(X_test)\n",
    "\n",
    "# Metrics\n",
    "acc = accuracy_score(y_test, y_pred)\n",
    "cm = confusion_matrix(y_test, y_pred)\n",
    "report = classification_report(y_test, y_pred)\n",
    "\n",
    "print(f\"Accuracy: {acc:.2f}\")\n",
    "print(\"Confusion Matrix:\\n\", cm)\n",
    "print(\"Classification Report:\\n\", report)"
   ]
  },
  {
   "cell_type": "code",
   "execution_count": 4,
   "id": "e82a9eeb",
   "metadata": {},
   "outputs": [
    {
     "data": {
      "image/png": "[encoded data removed]",
      "text/plain": [
       "<Figure size 800x600 with 1 Axes>"
      ]
     },
     "metadata": {},
     "output_type": "display_data"
    }
   ],
   "source": [
    "import matplotlib.pyplot as plt\n",
    "\n",
    "importances = pd.Series(regressor.feature_importances_, index=X_credit.columns)\n",
    "importances.sort_values(ascending=True).plot(kind='barh', figsize=(8,6))\n",
    "plt.title(\"Feature Importance for Credit Scoring\")\n",
    "plt.show()"
   ]
  },
  {
   "cell_type": "code",
   "execution_count": null,
   "id": "3076c72f",
   "metadata": {},
   "outputs": [],
   "source": []
  }
 ],
 "metadata": {
  "kernelspec": {
   "display_name": "Python 3",
   "language": "python",
   "name": "python3"
  },
  "language_info": {
   "codemirror_mode": {
    "name": "ipython",
    "version": 3
   },
   "file_extension": ".py",
   "mimetype": "text/x-python",
   "name": "python",
   "nbconvert_exporter": "python",
   "pygments_lexer": "ipython3",
   "version": "3.11.0"
  }
 },
 "nbformat": 4,
 "nbformat_minor": 5
}
